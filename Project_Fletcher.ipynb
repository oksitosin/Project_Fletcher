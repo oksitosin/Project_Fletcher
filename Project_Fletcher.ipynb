{
 "cells": [
  {
   "cell_type": "code",
   "execution_count": 1,
   "metadata": {
    "collapsed": false
   },
   "outputs": [],
   "source": [
    "# from collections import defaultdict\n",
    "# from nltk.stem.porter import PorterStemmer\n",
    "%matplotlib inline \n",
    "import operator\n",
    "import nltk\n",
    "from textblob import TextBlob\n",
    "from textblob import Word\n",
    "import numpy as np\n",
    "import csv\n",
    "import re\n",
    "import matplotlib.pyplot as plt\n",
    "plt.style.use = 'ggplot'"
   ]
  },
  {
   "cell_type": "code",
   "execution_count": 2,
   "metadata": {
    "collapsed": false
   },
   "outputs": [
    {
     "name": "stdout",
     "output_type": "stream",
     "text": [
      "Extracting data\n",
      "Number of  sarcastic tweets : 2041\n",
      "Average length of sarcastic tweets : 13.0\n",
      "Number of  non-sarcastic tweets : 7587\n",
      "Average length of non-sarcastic tweets : 12.0\n"
     ]
    }
   ],
   "source": [
    "\"\"\"  Cleaning the tweets:\n",
    "It first removes all the #tags, then make sure the tweets\n",
    "does not contain http links, non ASCII charaters or that the\n",
    "first letter of the tweet is @ (to ensure that the tweet is not out of context).\n",
    "Then it removes any @tagging and any mention of the word sarcasm or sarcastic.\n",
    "If after this the tweet is not empty and contains at least 3 words, it is added to the list.\n",
    "Finally, duplicate tweets are removed.\"\"\"\n",
    "\n",
    "import numpy as np\n",
    "import csv\n",
    "import re\n",
    "\n",
    "def preprocessing(csv_file_object):\n",
    "    \n",
    "    data=[]\n",
    "    length=[]\n",
    "    remove_hashtags = re.compile(r'#\\w+\\s?')\n",
    "    remove_friendtag = re.compile(r'@\\w+\\s?')\n",
    "    remove_sarcasm = re.compile(re.escape('sarcasm'),re.IGNORECASE)\n",
    "    remove_sarcastic = re.compile(re.escape('sarcastic'),re.IGNORECASE)  \n",
    "\n",
    "    for row in csv_file_object:\n",
    "        if len(row[0:])==1:\n",
    "            temp=row[0:][0]\n",
    "            temp=remove_hashtags.sub('',temp)\n",
    "            if len(temp)>0 and 'http' not in temp and temp[0]!='@' and '\\u' not in temp: \n",
    "                temp=remove_friendtag.sub('',temp)\n",
    "                temp=remove_sarcasm.sub('',temp)\n",
    "                temp=remove_sarcastic.sub('',temp)\n",
    "                temp=' '.join(temp.split()) #remove useless space\n",
    "                if len(temp.split())>2:\n",
    "                    data.append(temp)\n",
    "                    length.append(len(temp.split()))\n",
    "    data=list(set(data))\n",
    "    #data = np.array(data)\n",
    "    \n",
    "    return data, length\n",
    "\n",
    "print 'Extracting data'\n",
    "\n",
    "\n",
    "### POSITIVE DATA ####\n",
    "csv_file_object_pos = csv.reader(open('positiveTweets.txt', 'rU',),delimiter='\\n')\n",
    "pos_data, length_pos = preprocessing(csv_file_object_pos)\n",
    "\n",
    "\n",
    "### NEGATIVE DATA ####\n",
    "csv_file_object_neg = csv.reader(open('negativeTweets.txt', 'rU'),delimiter='\\n')\n",
    "neg_data, length_neg = preprocessing(csv_file_object_neg)\n",
    "\n",
    "print 'Number of  sarcastic tweets :', len(pos_data)\n",
    "print 'Average length of sarcastic tweets :', np.round(np.mean(length_pos))\n",
    "print 'Number of  non-sarcastic tweets :', len(neg_data)\n",
    "print 'Average length of non-sarcastic tweets :', np.round(np.mean(length_neg))"
   ]
  },
  {
   "cell_type": "code",
   "execution_count": 3,
   "metadata": {
    "collapsed": false
   },
   "outputs": [],
   "source": [
    "#bye bye emoticons!\n",
    "\n",
    "def rem_em(L):\n",
    "    clean = []\n",
    "    for t in L:\n",
    "        remove_emojis = [i for i in t if ord(i) < 128]\n",
    "        remove_emojis = ''.join(remove_emojis)\n",
    "        clean.append(remove_emojis)\n",
    "    return clean"
   ]
  },
  {
   "cell_type": "code",
   "execution_count": 4,
   "metadata": {
    "collapsed": false
   },
   "outputs": [],
   "source": [
    "dataneg = rem_em(neg_data)"
   ]
  },
  {
   "cell_type": "code",
   "execution_count": 5,
   "metadata": {
    "collapsed": true
   },
   "outputs": [],
   "source": [
    "datapos = rem_em(pos_data)"
   ]
  },
  {
   "cell_type": "code",
   "execution_count": 6,
   "metadata": {
    "collapsed": false
   },
   "outputs": [
    {
     "name": "stdout",
     "output_type": "stream",
     "text": [
      "I barely know my daddy side of the family \n",
      "I wonder if Hull have \"ever beaten Liverpool today in any competition\" they would've said surely.\n"
     ]
    }
   ],
   "source": [
    "print dataneg[0]\n",
    "print datapos[0]"
   ]
  },
  {
   "cell_type": "code",
   "execution_count": 7,
   "metadata": {
    "collapsed": false
   },
   "outputs": [
    {
     "name": "stdout",
     "output_type": "stream",
     "text": [
      "<type 'list'>\n",
      "<type 'list'>\n"
     ]
    }
   ],
   "source": [
    "print type(dataneg)\n",
    "print type(datapos)"
   ]
  },
  {
   "cell_type": "code",
   "execution_count": 8,
   "metadata": {
    "collapsed": true
   },
   "outputs": [],
   "source": [
    "sarc = ['sarc'] * len(datapos)"
   ]
  },
  {
   "cell_type": "code",
   "execution_count": 9,
   "metadata": {
    "collapsed": false
   },
   "outputs": [],
   "source": [
    "nonsarc = ['nonsarc'] * len(dataneg)"
   ]
  },
  {
   "cell_type": "code",
   "execution_count": 10,
   "metadata": {
    "collapsed": true
   },
   "outputs": [],
   "source": [
    "def listoftuple(tweetsdata, category):\n",
    "    result = zip(tweetsdata, category)\n",
    "    return result"
   ]
  },
  {
   "cell_type": "code",
   "execution_count": 11,
   "metadata": {
    "collapsed": false
   },
   "outputs": [],
   "source": [
    "sarc_cl_data = listoftuple(datapos,sarc)"
   ]
  },
  {
   "cell_type": "code",
   "execution_count": 12,
   "metadata": {
    "collapsed": true
   },
   "outputs": [],
   "source": [
    "nonsarc_cl_data = listoftuple(dataneg,nonsarc)"
   ]
  },
  {
   "cell_type": "code",
   "execution_count": 13,
   "metadata": {
    "collapsed": false
   },
   "outputs": [
    {
     "name": "stdout",
     "output_type": "stream",
     "text": [
      "2041\n",
      "7587\n"
     ]
    }
   ],
   "source": [
    "print len(sarc_cl_data)\n",
    "print len(nonsarc_cl_data)"
   ]
  },
  {
   "cell_type": "code",
   "execution_count": 14,
   "metadata": {
    "collapsed": false
   },
   "outputs": [
    {
     "data": {
      "text/plain": [
       "'I barely know my daddy side of the family '"
      ]
     },
     "execution_count": 14,
     "metadata": {},
     "output_type": "execute_result"
    }
   ],
   "source": [
    "dataneg[0]"
   ]
  },
  {
   "cell_type": "code",
   "execution_count": 15,
   "metadata": {
    "collapsed": false
   },
   "outputs": [],
   "source": [
    "for i in range(len(datapos)):\n",
    "    sentpolpos = TextBlob(str(datapos[i])).sentiment\n",
    "    "
   ]
  },
  {
   "cell_type": "code",
   "execution_count": 16,
   "metadata": {
    "collapsed": false
   },
   "outputs": [
    {
     "data": {
      "image/png": "[encoded data removed]",
      "text/plain": [
       "<matplotlib.figure.Figure at 0x109dcb7d0>"
      ]
     },
     "metadata": {},
     "output_type": "display_data"
    }
   ],
   "source": [
    "polarlistneg = []\n",
    "sentlistneg = []\n",
    "for i in range(len(dataneg)):\n",
    "    sentpolneg = TextBlob(str(dataneg[i])).sentiment\n",
    "    polarlistneg.append(sentpolneg[0])\n",
    "    sentlistneg.append(sentpolneg[1])\n",
    "#     print polarlist\n",
    "#     print sentpolneg[0]\n",
    "plt.hist(polarlistneg, color = 'pink')\n",
    "plt.title('Non-Sarcastic: Polarity')\n",
    "plt.grid(True)\n",
    "plt.show()"
   ]
  },
  {
   "cell_type": "code",
   "execution_count": 17,
   "metadata": {
    "collapsed": false
   },
   "outputs": [
    {
     "data": {
      "image/png": "[encoded data removed]",
      "text/plain": [
       "<matplotlib.figure.Figure at 0x10a9cd490>"
      ]
     },
     "metadata": {},
     "output_type": "display_data"
    }
   ],
   "source": [
    "plt.hist(sentlistneg, color = 'pink')\n",
    "plt.title('Non-Sarcastic: Subjectivity')\n",
    "plt.grid(True)\n",
    "plt.show()"
   ]
  },
  {
   "cell_type": "code",
   "execution_count": 18,
   "metadata": {
    "collapsed": false
   },
   "outputs": [
    {
     "data": {
      "image/png": "[encoded data removed]",
      "text/plain": [
       "<matplotlib.figure.Figure at 0x10ab13bd0>"
      ]
     },
     "metadata": {},
     "output_type": "display_data"
    }
   ],
   "source": [
    "polarlistpos = []\n",
    "sentlistpos = []\n",
    "for i in range(len(datapos)):\n",
    "    sentpolpos = TextBlob(str(datapos[i])).sentiment\n",
    "    polarlistpos.append(sentpolpos[0])\n",
    "    sentlistpos.append(sentpolpos[1])\n",
    "\n",
    "plt.hist(polarlistpos, color = 'skyblue')\n",
    "plt.title('Sarcastic: Polarity')\n",
    "plt.grid(True)\n",
    "plt.show()"
   ]
  },
  {
   "cell_type": "code",
   "execution_count": 19,
   "metadata": {
    "collapsed": false
   },
   "outputs": [
    {
     "data": {
      "image/png": "[encoded data removed]",
      "text/plain": [
       "<matplotlib.figure.Figure at 0x10aa76450>"
      ]
     },
     "metadata": {},
     "output_type": "display_data"
    }
   ],
   "source": [
    "plt.hist(sentlistpos,  color = 'skyblue')\n",
    "plt.title('Sarcastic: Subjectivity')\n",
    "plt.grid(True)\n",
    "plt.show()"
   ]
  },
  {
   "cell_type": "code",
   "execution_count": 20,
   "metadata": {
    "collapsed": false
   },
   "outputs": [
    {
     "name": "stdout",
     "output_type": "stream",
     "text": [
      "7587\n",
      "7587\n",
      "2041\n",
      "2041\n"
     ]
    }
   ],
   "source": [
    "print len(sentlistneg)\n",
    "print len(polarlistneg)\n",
    "print len(sentlistpos)\n",
    "print len(polarlistpos)"
   ]
  },
  {
   "cell_type": "code",
   "execution_count": 21,
   "metadata": {
    "collapsed": false
   },
   "outputs": [
    {
     "name": "stdout",
     "output_type": "stream",
     "text": [
      "(2041, 3)\n",
      "(7587, 3)\n",
      "(4082, 3)\n"
     ]
    }
   ],
   "source": [
    "polarposarray = np.array(polarlistpos)\n",
    "sentposarray = np.array(sentlistpos)\n",
    "dataposarray= np.transpose(np.vstack([polarposarray, sentposarray]))\n",
    "sarccol = np.ones((2041,), int)\n",
    "# polpossq = np.array(polarlistpos^2)\n",
    "# np.hstack(dataposarray,polpossq)\n",
    "\n",
    "\n",
    "polarnegarray = np.array(polarlistneg)\n",
    "sentnegarray = np.array(sentlistneg)\n",
    "datanegarray= np.transpose(np.vstack([polarnegarray, sentnegarray]))\n",
    "nonsarccol = np.zeros((7587,), int)\n",
    "\n",
    "\n",
    "sarclabel = np.c_[dataposarray, sarccol]\n",
    "nonsarclabel = np.c_[datanegarray, nonsarccol]\n",
    "nonsarclabelp = nonsarclabel[:2041,:]\n",
    "\n",
    "mixed_data = np.vstack([sarclabel, nonsarclabelp])\n",
    "\n",
    "print sarclabel.shape\n",
    "print nonsarclabel.shape\n",
    "print mixed_data.shape"
   ]
  },
  {
   "cell_type": "code",
   "execution_count": 22,
   "metadata": {
    "collapsed": false
   },
   "outputs": [
    {
     "name": "stdout",
     "output_type": "stream",
     "text": [
      "(4082, 2)\n",
      "(4082, 1)\n"
     ]
    }
   ],
   "source": [
    "X = mixed_data[:, [0,1]]\n",
    "y = mixed_data[:, [2]]\n",
    "\n",
    "print X.shape\n",
    "print y.shape"
   ]
  },
  {
   "cell_type": "code",
   "execution_count": 23,
   "metadata": {
    "collapsed": false
   },
   "outputs": [],
   "source": [
    "import numpy as np\n",
    "from sklearn.cross_validation import train_test_split\n",
    "X_train, X_test, y_train, y_test = train_test_split(\n",
    "        X, y, test_size=0.25, random_state=0)"
   ]
  },
  {
   "cell_type": "code",
   "execution_count": 24,
   "metadata": {
    "collapsed": true
   },
   "outputs": [],
   "source": [
    "from sklearn.cross_validation import cross_val_score, KFold\n",
    "from scipy.stats import sem\n",
    "\n",
    "def evaluate_cross_validation(clf, X, y, K):\n",
    "    # create a k-fold cross validation iterator\n",
    "    cv = KFold(len(y), K, shuffle=True, random_state=0)\n",
    "    # by default the score used is the one returned by score method of the estimator (accuracy)\n",
    "    scores = cross_val_score(clf, X, y, cv=cv)\n",
    "    print (scores)\n",
    "    print (\"Mean score: {0:.3f} (+/-{1:.3f})\".format(\n",
    "        np.mean(scores), sem(scores)))"
   ]
  },
  {
   "cell_type": "code",
   "execution_count": 25,
   "metadata": {
    "collapsed": true
   },
   "outputs": [],
   "source": [
    "from sklearn.svm import SVC\n",
    "from sklearn.metrics import accuracy_score, classification_report\n",
    "\n",
    "svcmodel = SVC(kernel='rbf')"
   ]
  },
  {
   "cell_type": "code",
   "execution_count": 26,
   "metadata": {
    "collapsed": false
   },
   "outputs": [
    {
     "name": "stderr",
     "output_type": "stream",
     "text": [
      "/Users/oksitosin/anaconda/lib/python2.7/site-packages/sklearn/svm/base.py:472: DataConversionWarning: A column-vector y was passed when a 1d array was expected. Please change the shape of y to (n_samples, ), for example using ravel().\n",
      "  y_ = column_or_1d(y, warn=True)\n",
      "/Users/oksitosin/anaconda/lib/python2.7/site-packages/sklearn/svm/base.py:472: DataConversionWarning: A column-vector y was passed when a 1d array was expected. Please change the shape of y to (n_samples, ), for example using ravel().\n",
      "  y_ = column_or_1d(y, warn=True)\n",
      "/Users/oksitosin/anaconda/lib/python2.7/site-packages/sklearn/svm/base.py:472: DataConversionWarning: A column-vector y was passed when a 1d array was expected. Please change the shape of y to (n_samples, ), for example using ravel().\n",
      "  y_ = column_or_1d(y, warn=True)\n",
      "/Users/oksitosin/anaconda/lib/python2.7/site-packages/sklearn/svm/base.py:472: DataConversionWarning: A column-vector y was passed when a 1d array was expected. Please change the shape of y to (n_samples, ), for example using ravel().\n",
      "  y_ = column_or_1d(y, warn=True)\n"
     ]
    },
    {
     "name": "stdout",
     "output_type": "stream",
     "text": [
      "[ 0.61990212  0.62091503  0.63562092  0.60457516  0.64052288]\n",
      "Mean score: 0.624 (+/-0.006)\n"
     ]
    },
    {
     "name": "stderr",
     "output_type": "stream",
     "text": [
      "/Users/oksitosin/anaconda/lib/python2.7/site-packages/sklearn/svm/base.py:472: DataConversionWarning: A column-vector y was passed when a 1d array was expected. Please change the shape of y to (n_samples, ), for example using ravel().\n",
      "  y_ = column_or_1d(y, warn=True)\n"
     ]
    }
   ],
   "source": [
    "evaluate_cross_validation(svcmodel, X_train, y_train, 5)"
   ]
  },
  {
   "cell_type": "code",
   "execution_count": 27,
   "metadata": {
    "collapsed": true
   },
   "outputs": [],
   "source": [
    "from sklearn import metrics\n",
    "\n",
    "def train_and_evaluate(clf, X_train, X_test, y_train, y_test):\n",
    "    \n",
    "    clf.fit(X_train, y_train)\n",
    "    \n",
    "    print (\"Accuracy on training set:\")\n",
    "    print (clf.score(X_train, y_train))\n",
    "    print (\"Accuracy on testing set:\")\n",
    "    print (clf.score(X_test, y_test))\n",
    "    \n",
    "    y_pred = clf.predict(X_test)\n",
    "    \n",
    "    print (\"Classification Report:\")\n",
    "    print (metrics.classification_report(y_test, y_pred))\n",
    "    print (\"Confusion Matrix:\")\n",
    "    print (metrics.confusion_matrix(y_test, y_pred))"
   ]
  },
  {
   "cell_type": "code",
   "execution_count": 28,
   "metadata": {
    "collapsed": false
   },
   "outputs": [
    {
     "name": "stdout",
     "output_type": "stream",
     "text": [
      "Accuracy on training set:\n",
      "0.62724599804\n",
      "Accuracy on testing set:\n",
      "0.628795298727\n",
      "Classification Report:\n",
      "             precision    recall  f1-score   support\n",
      "\n",
      "        0.0       0.62      0.61      0.61       495\n",
      "        1.0       0.64      0.65      0.64       526\n",
      "\n",
      "avg / total       0.63      0.63      0.63      1021\n",
      "\n",
      "Confusion Matrix:\n",
      "[[301 194]\n",
      " [185 341]]\n"
     ]
    },
    {
     "name": "stderr",
     "output_type": "stream",
     "text": [
      "/Users/oksitosin/anaconda/lib/python2.7/site-packages/sklearn/svm/base.py:472: DataConversionWarning: A column-vector y was passed when a 1d array was expected. Please change the shape of y to (n_samples, ), for example using ravel().\n",
      "  y_ = column_or_1d(y, warn=True)\n"
     ]
    }
   ],
   "source": [
    "train_and_evaluate(svcmodel, X_train, X_test, y_train, y_test)"
   ]
  },
  {
   "cell_type": "code",
   "execution_count": 29,
   "metadata": {
    "collapsed": true
   },
   "outputs": [],
   "source": [
    "def plot_learning_curve(estimator, title, X, y, ylim=None, cv=None,\n",
    "                        n_jobs=1, train_sizes=np.linspace(.1, 1.0, 5)):\n",
    "    \n",
    "    plt.figure()\n",
    "    plt.title(title)\n",
    "    if ylim is not None:\n",
    "        plt.ylim(*ylim)\n",
    "    plt.xlabel(\"Training examples\")\n",
    "    plt.ylabel(\"Score\")\n",
    "    train_sizes, train_scores, test_scores = learning_curve(\n",
    "        estimator, X, y, cv=cv, n_jobs=n_jobs, train_sizes=train_sizes)\n",
    "    train_scores_mean = np.mean(train_scores, axis=1)\n",
    "    train_scores_std = np.std(train_scores, axis=1)\n",
    "    test_scores_mean = np.mean(test_scores, axis=1)\n",
    "    test_scores_std = np.std(test_scores, axis=1)\n",
    "    plt.grid()\n",
    "\n",
    "    plt.fill_between(train_sizes, train_scores_mean - train_scores_std,\n",
    "                     train_scores_mean + train_scores_std, alpha=0.1,\n",
    "                     color=\"r\")\n",
    "    plt.fill_between(train_sizes, test_scores_mean - test_scores_std,\n",
    "                     test_scores_mean + test_scores_std, alpha=0.1, color=\"g\")\n",
    "    plt.plot(train_sizes, train_scores_mean, 'o-', color=\"r\",\n",
    "             label=\"Training score\")\n",
    "    plt.plot(train_sizes, test_scores_mean, 'o-', color=\"g\",\n",
    "             label=\"Cross-validation score\")\n",
    "\n",
    "    plt.legend(loc=\"best\")\n",
    "    return plt"
   ]
  },
  {
   "cell_type": "code",
   "execution_count": 30,
   "metadata": {
    "collapsed": false
   },
   "outputs": [
    {
     "name": "stdout",
     "output_type": "stream",
     "text": [
      "Confusion matrix, without normalization\n",
      "[[301 194]\n",
      " [185 341]]\n",
      "Normalized confusion matrix\n",
      "[[ 0.61  0.39]\n",
      " [ 0.35  0.65]]\n"
     ]
    },
    {
     "name": "stderr",
     "output_type": "stream",
     "text": [
      "/Users/oksitosin/anaconda/lib/python2.7/site-packages/matplotlib/collections.py:590: FutureWarning: elementwise comparison failed; returning scalar instead, but in the future will perform elementwise comparison\n",
      "  if self._edgecolors == str('face'):\n"
     ]
    },
    {
     "data": {
      "image/png": "[encoded data removed]",
      "text/plain": [
       "<matplotlib.figure.Figure at 0x10ad9de50>"
      ]
     },
     "metadata": {},
     "output_type": "display_data"
    },
    {
     "data": {
      "image/png": "[encoded data removed]",
      "text/plain": [
       "<matplotlib.figure.Figure at 0x10ac8e7d0>"
      ]
     },
     "metadata": {},
     "output_type": "display_data"
    }
   ],
   "source": [
    "import matplotlib.pyplot as plt\n",
    "from sklearn.metrics import confusion_matrix\n",
    "\n",
    "\n",
    "def plot_confusion_matrix(cm, title='Confusion matrix', cmap=plt.cm.Blues):\n",
    "    plt.imshow(cm, interpolation='nearest', cmap=cmap)\n",
    "    plt.title(title)\n",
    "    plt.colorbar()\n",
    "    plt.tight_layout()\n",
    "    plt.ylabel('True label')\n",
    "    plt.xlabel('Predicted label')\n",
    "\n",
    "y_pred = svcmodel.predict(X_test)\n",
    "# Compute confusion matrix\n",
    "cm = confusion_matrix(y_test, y_pred)\n",
    "np.set_printoptions(precision=2)\n",
    "print('Confusion matrix, without normalization')\n",
    "print(cm)\n",
    "plt.figure()\n",
    "plot_confusion_matrix(cm)\n",
    "\n",
    "# Normalize the confusion matrix by row (i.e by the number of samples\n",
    "# in each class)\n",
    "cm_normalized = cm.astype('float') / cm.sum(axis=1)[:, np.newaxis]\n",
    "print('Normalized confusion matrix')\n",
    "print(cm_normalized)\n",
    "plt.figure()\n",
    "plot_confusion_matrix(cm_normalized, title='Normalized confusion matrix')\n",
    "\n",
    "plt.show()"
   ]
  },
  {
   "cell_type": "code",
   "execution_count": 31,
   "metadata": {
    "collapsed": true
   },
   "outputs": [],
   "source": [
    "from sklearn.metrics import roc_curve, auc\n",
    "\n",
    "def draw_roc_curve(model, X_train, X_test, y_train, y_test):   \n",
    "    \n",
    "    try:\n",
    "        y_score = model.fit(X_train, y_train).predict_proba(X_test)[:,1]\n",
    "    except:\n",
    "        y_score = model.fit(X_train, y_train).decision_function(X_test)\n",
    "    fpr, tpr, _ = roc_curve(y_test, y_score)\n",
    "    roc_auc = auc(fpr, tpr)\n",
    "\n",
    "    # Plot of a ROC curve for a specific class\n",
    "    plt.figure()\n",
    "    plt.plot(fpr, tpr, label='ROC curve (area = %0.2f)' % roc_auc)\n",
    "    plt.plot([0, 1], [0, 1], 'k--')\n",
    "    plt.xlim([0.0, 1.0])\n",
    "    plt.ylim([0.0, 1.05])\n",
    "    plt.xlabel('False Positive Rate')\n",
    "    plt.ylabel('True Positive Rate')\n",
    "    plt.title('Receiver operating characteristic')\n",
    "    plt.legend(loc=\"lower right\")\n",
    "    plt.show()"
   ]
  },
  {
   "cell_type": "code",
   "execution_count": 32,
   "metadata": {
    "collapsed": false
   },
   "outputs": [
    {
     "name": "stderr",
     "output_type": "stream",
     "text": [
      "/Users/oksitosin/anaconda/lib/python2.7/site-packages/sklearn/svm/base.py:472: DataConversionWarning: A column-vector y was passed when a 1d array was expected. Please change the shape of y to (n_samples, ), for example using ravel().\n",
      "  y_ = column_or_1d(y, warn=True)\n",
      "/Users/oksitosin/anaconda/lib/python2.7/site-packages/sklearn/svm/base.py:472: DataConversionWarning: A column-vector y was passed when a 1d array was expected. Please change the shape of y to (n_samples, ), for example using ravel().\n",
      "  y_ = column_or_1d(y, warn=True)\n"
     ]
    },
    {
     "data": {
      "image/png": "[encoded data removed]",
      "text/plain": [
       "<matplotlib.figure.Figure at 0x10ae62190>"
      ]
     },
     "metadata": {},
     "output_type": "display_data"
    }
   ],
   "source": [
    "draw_roc_curve(svcmodel, X_train, X_test, y_train, y_test)"
   ]
  },
  {
   "cell_type": "code",
   "execution_count": 33,
   "metadata": {
    "collapsed": true
   },
   "outputs": [],
   "source": [
    "def sarcastic(string):\n",
    "    sntmnt = TextBlob(string).sentiment\n",
    "    polars = np.array(sntmnt[0])\n",
    "    sents = np.array(sntmnt[1])\n",
    "    newpos= np.transpose(np.vstack([polars, sents]))\n",
    "    return newpos"
   ]
  },
  {
   "cell_type": "code",
   "execution_count": 34,
   "metadata": {
    "collapsed": false
   },
   "outputs": [
    {
     "data": {
      "text/plain": [
       "array([ 1.])"
      ]
     },
     "execution_count": 34,
     "metadata": {},
     "output_type": "execute_result"
    }
   ],
   "source": [
    "a = sarcastic(\"Sarcasm detector, that's a really good invention!\")\n",
    "svcmodel.predict(a)"
   ]
  },
  {
   "cell_type": "code",
   "execution_count": 35,
   "metadata": {
    "collapsed": false
   },
   "outputs": [
    {
     "data": {
      "text/plain": [
       "array([[ 0.88,  0.6 ]])"
      ]
     },
     "execution_count": 35,
     "metadata": {},
     "output_type": "execute_result"
    }
   ],
   "source": [
    "a"
   ]
  },
  {
   "cell_type": "code",
   "execution_count": 36,
   "metadata": {
    "collapsed": true
   },
   "outputs": [],
   "source": [
    "nonsar = datanegarray[:2041]\n",
    "sar = dataposarray"
   ]
  },
  {
   "cell_type": "code",
   "execution_count": null,
   "metadata": {
    "collapsed": false
   },
   "outputs": [],
   "source": [
    "# fig, axes = plt.subplots(ncols=2, nrows=1)\n",
    "# ax1, ax2 = axes.ravel()\n",
    "\n",
    "# ax1.plot(polarlistneg[:2041], polarlistpos, 'bo')\n",
    "# ax2.plot(sentlistneg[:2041], sentlistpos, 'ro')\n",
    "\n",
    "plt.scatter(polarlistneg, sentlistneg, polarlistpos, sentlistpos)\n",
    "\n",
    "plt.legend()\n",
    "plt.grid(True)\n",
    "plt.title('Sarcastic & Non-Sarcastic')\n",
    "plt.show()"
   ]
  },
  {
   "cell_type": "code",
   "execution_count": null,
   "metadata": {
    "collapsed": true
   },
   "outputs": [],
   "source": []
  }
 ],
 "metadata": {
  "kernelspec": {
   "display_name": "Python 2",
   "language": "python",
   "name": "python2"
  },
  "language_info": {
   "codemirror_mode": {
    "name": "ipython",
    "version": 2
   },
   "file_extension": ".py",
   "mimetype": "text/x-python",
   "name": "python",
   "nbconvert_exporter": "python",
   "pygments_lexer": "ipython2",
   "version": "2.7.10"
  }
 },
 "nbformat": 4,
 "nbformat_minor": 0
}
